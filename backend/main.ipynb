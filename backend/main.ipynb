{
 "cells": [
  {
   "cell_type": "code",
   "execution_count": 2,
   "metadata": {},
   "outputs": [
    {
     "name": "stdout",
     "output_type": "stream",
     "text": [
      "\n",
      "image 1/1 D:\\Zidni Zidan\\Documents\\KAMPUS\\Tugas Akhir\\sistem\\backend\\yolov8\\det2.png: 384x640 1 car, 227.0ms\n",
      "Speed: 3.8ms preprocess, 227.0ms inference, 25.6ms postprocess per image at shape (1, 3, 384, 640)\n",
      "Results saved to \u001b[1mD:\\Zidni Zidan\\Documents\\KAMPUS\\Tugas Akhir\\sistem\\backend\\yolov8\\predict3\u001b[0m\n"
     ]
    }
   ],
   "source": [
    "from ultralytics import YOLO\n",
    "\n",
    "model = YOLO(\"D:/Zidni Zidan/Documents/KAMPUS/Tugas Akhir/sistem/backend/yolov8/train4/weights/best.pt\")\n",
    "results = model.predict(\n",
    "    source=\"D:/Zidni Zidan/Documents/KAMPUS/Tugas Akhir/sistem/backend/yolov8/det2.png\",\n",
    "    conf=0.5,\n",
    "    project=\"D:/Zidni Zidan/Documents/KAMPUS/Tugas Akhir/sistem/backend/yolov8/\",\n",
    "    save=True,\n",
    "    show_labels=False\n",
    ")"
   ]
  }
 ],
 "metadata": {
  "kernelspec": {
   "display_name": "venv",
   "language": "python",
   "name": "python3"
  },
  "language_info": {
   "codemirror_mode": {
    "name": "ipython",
    "version": 3
   },
   "file_extension": ".py",
   "mimetype": "text/x-python",
   "name": "python",
   "nbconvert_exporter": "python",
   "pygments_lexer": "ipython3",
   "version": "3.10.6"
  }
 },
 "nbformat": 4,
 "nbformat_minor": 2
}
